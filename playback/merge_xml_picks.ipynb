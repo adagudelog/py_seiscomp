{
 "cells": [
  {
   "cell_type": "code",
   "execution_count": 90,
   "metadata": {},
   "outputs": [
    {
     "name": "stdout",
     "output_type": "stream",
     "text": [
      "picks1.xml\n",
      "picks2.xml\n",
      "3084\n",
      "3089\n"
     ]
    }
   ],
   "source": [
    "import os\n",
    "\n",
    "picks = \"\"\n",
    "indices = []\n",
    "\n",
    "\n",
    "def pick_extractor(file_name, folder_name = \"picks/\"):\n",
    "    \n",
    "    f = open(folder_name+file_name).readlines()\n",
    "\n",
    "    ind = []\n",
    "\n",
    "    for idx, line in enumerate(f):\n",
    "        if line.strip().strip(\"\\n\") == \"<EventParameters>\" or\\\n",
    "        line.strip().strip(\"\\n\") == \"</EventParameters>\":\n",
    "            #print line, idx\n",
    "            ind.append(idx)\n",
    "\n",
    "    part = f[ind[0]+1:ind[-1]]\n",
    "    return part, ind, file_name\n",
    "\n",
    "\n",
    "def complete_xml_file(file_name, ind, folder_name = \"picks/\"):\n",
    "    \n",
    "    f = open(folder_name+file_name).readlines()\n",
    "    \n",
    "    top = \"\".join(f[:ind[0]+1])\n",
    "    bottom = \"\".join(f[ind[1]:])\n",
    "    \n",
    "    return top, bottom\n",
    "\n",
    "for pick_file in os.listdir(\"picks\"):\n",
    "    print pick_file\n",
    "    parte, ind, file_name = pick_extractor(pick_file)\n",
    "    texto = \"\".join(parte)\n",
    "    picks += texto \n",
    "    \n",
    "    indices.append([ind, file_name])\n",
    "\n",
    "ind = indices[0][0]\n",
    "file_name = indices[0][1]\n",
    "\n",
    "top, bottom = complete_xml_file(file_name, ind)\n",
    "picks_file_complete = top+picks+bottom\n",
    "\n",
    "print len(picks_file_complete.split(\"\\n\"))\n",
    "\n",
    "picks_final = open(\"picks_final.xml\", \"w\")\n",
    "picks_final.write(picks_file_complete)\n",
    "picks_final.close()"
   ]
  },
  {
   "cell_type": "code",
   "execution_count": null,
   "metadata": {},
   "outputs": [],
   "source": []
  }
 ],
 "metadata": {
  "kernelspec": {
   "display_name": "Python 2",
   "language": "python",
   "name": "python2"
  },
  "language_info": {
   "codemirror_mode": {
    "name": "ipython",
    "version": 2
   },
   "file_extension": ".py",
   "mimetype": "text/x-python",
   "name": "python",
   "nbconvert_exporter": "python",
   "pygments_lexer": "ipython2",
   "version": "2.7.15"
  }
 },
 "nbformat": 4,
 "nbformat_minor": 2
}
