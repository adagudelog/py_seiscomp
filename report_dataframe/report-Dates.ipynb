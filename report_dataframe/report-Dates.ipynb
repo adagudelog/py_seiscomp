{
 "cells": [
  {
   "cell_type": "code",
   "execution_count": 32,
   "metadata": {},
   "outputs": [
    {
     "data": {
      "text/plain": [
       "'\\nf = open(\"report_daniel2.out\").readlines()\\n\\nreport = \"\"\\n\\nfor line in f:\\n    n_line = line[1:5]+\"-\"+line[6:8].strip().rjust(2,\"0\")+\"-\"    +line[8:10].strip().rjust(2,\"0\")+\" \"+line[11:13].strip().rjust(2,\"0\")    +\":\"+line[13:15].strip().rjust(2,\"0\")+\":\"+   \"00\"+\"\\n\"\\n    report = report+n_line\\n    #print n_line\\n\\nwith open(\"report_daniel3.out\", \"w\") as f2:\\n    f2.write(report)\\n\\n'"
      ]
     },
     "execution_count": 32,
     "metadata": {},
     "output_type": "execute_result"
    }
   ],
   "source": [
    "\"\"\"\n",
    "f = open(\"report_daniel2.out\").readlines()\n",
    "\n",
    "report = \"\"\n",
    "\n",
    "for line in f:\n",
    "    n_line = line[1:5]+\"-\"+line[6:8].strip().rjust(2,\"0\")+\"-\"\\\n",
    "    +line[8:10].strip().rjust(2,\"0\")+\" \"+line[11:13].strip().rjust(2,\"0\")\\\n",
    "    +\":\"+line[13:15].strip().rjust(2,\"0\")+\":\"+\\\n",
    "   \"00\"+\"\\n\"\n",
    "    report = report+n_line\n",
    "    #print n_line\n",
    "\n",
    "with open(\"report_daniel3.out\", \"w\") as f2:\n",
    "    f2.write(report)\n",
    "\n",
    "\"\"\""
   ]
  },
  {
   "cell_type": "code",
   "execution_count": 64,
   "metadata": {
    "scrolled": true
   },
   "outputs": [],
   "source": [
    "import pandas as pd\n",
    "import numpy as np\n",
    "from obspy import UTCDateTime\n",
    "\n",
    "def int2weekday(x):\n",
    "    days = [\"Mon\", \"Tue\", \"Wed\", \"Thu\", \"Fri\", \"Sat\", \"Sun\"]\n",
    "    return days[x]\n",
    "\n",
    "def prepare_heat_map(file_name):\n",
    "    \n",
    "    #df = pd.read_csv(\"report_daniel3.out\", header=None, names=[\"Time\"])\n",
    "    df = pd.read_csv(file_name, header=0, names=[\"Time\"])\n",
    "    df.fillna(0)\n",
    "\n",
    "    df[\"weekday\"] = pd.to_datetime(df[\"Time\"]).dt.date.apply(lambda x: x.weekday())\n",
    "    df[\"hour\"] = pd.to_datetime(df[\"Time\"]).dt.hour\n",
    "\n",
    "    df[\"weekday\"] = df[\"weekday\"].apply(int2weekday)\n",
    "\n",
    "\n",
    "    h_map = df.groupby([\"weekday\", \"hour\"]).size().reset_index(name=\"data\")\n",
    "\n",
    "    h_map2 = h_map.pivot(\"weekday\",\"hour\", \"data\").fillna(0).reindex([\n",
    "        \"Mon\", \"Tue\", \"Wed\", \"Thu\", \"Fri\", \"Sat\", \"Sun\"])\n",
    "    \n",
    "    return h_map2\n",
    "\n",
    "heat_map = prepare_heat_map(\"report_dates_less3.out\")\n",
    "heat_map2 = prepare_heat_map(\"report_dates_greater3.out\")"
   ]
  },
  {
   "cell_type": "code",
   "execution_count": 65,
   "metadata": {},
   "outputs": [
    {
     "name": "stdout",
     "output_type": "stream",
     "text": [
      "M <= 3\n"
     ]
    },
    {
     "data": {
      "image/png": "[encoded data removed]",
      "text/plain": [
       "<Figure size 432x288 with 2 Axes>"
      ]
     },
     "metadata": {},
     "output_type": "display_data"
    }
   ],
   "source": [
    "import seaborn as sns\n",
    "%matplotlib inline\n",
    "ax = sns.heatmap(heat_map)\n",
    "print \"M <= 3\""
   ]
  },
  {
   "cell_type": "code",
   "execution_count": 66,
   "metadata": {},
   "outputs": [
    {
     "name": "stdout",
     "output_type": "stream",
     "text": [
      "M > 3\n"
     ]
    },
    {
     "data": {
      "image/png": "[encoded data removed]",
      "text/plain": [
       "<Figure size 432x288 with 2 Axes>"
      ]
     },
     "metadata": {},
     "output_type": "display_data"
    }
   ],
   "source": [
    "ax = sns.heatmap(heat_map2)\n",
    "print \"M > 3\""
   ]
  },
  {
   "cell_type": "code",
   "execution_count": 59,
   "metadata": {},
   "outputs": [],
   "source": [
    "sns.heatmap?"
   ]
  },
  {
   "cell_type": "code",
   "execution_count": null,
   "metadata": {},
   "outputs": [],
   "source": []
  }
 ],
 "metadata": {
  "kernelspec": {
   "display_name": "Python 2",
   "language": "python",
   "name": "python2"
  },
  "language_info": {
   "codemirror_mode": {
    "name": "ipython",
    "version": 2
   },
   "file_extension": ".py",
   "mimetype": "text/x-python",
   "name": "python",
   "nbconvert_exporter": "python",
   "pygments_lexer": "ipython2",
   "version": "2.7.15"
  }
 },
 "nbformat": 4,
 "nbformat_minor": 2
}
