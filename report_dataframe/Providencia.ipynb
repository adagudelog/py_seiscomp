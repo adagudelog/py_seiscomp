{
 "cells": [
  {
   "cell_type": "code",
   "execution_count": 4,
   "metadata": {},
   "outputs": [],
   "source": [
    "f = open(\"report.out\").readlines()\n",
    "\n",
    "report = \"report_prv.out\"\n",
    "\n",
    "for line in f:\n",
    "    n_line = line[1:5]+\"-\"+line[6:8].strip().rjust(2,\"0\")+\"-\"\\\n",
    "    +line[8:10].strip().rjust(2,\"0\")+\" \"+line[11:13].strip().rjust(2,\"0\")\\\n",
    "    +\":\"+line[13:15].strip().rjust(2,\"0\")+\":\"+\\\n",
    "   \"00\"+\"\\n\"\n",
    "    report = report+n_line\n",
    "    #print n_line\n",
    "\n",
    "with open(\"report_daniel3.out\", \"w\") as f2:\n",
    "    f2.write(report)"
   ]
  },
  {
   "cell_type": "code",
   "execution_count": 3,
   "metadata": {},
   "outputs": [
    {
     "data": {
      "text/plain": [
       "u'/home/daniel/rutinas/py_seiscomp/report_dataframe'"
      ]
     },
     "execution_count": 3,
     "metadata": {},
     "output_type": "execute_result"
    }
   ],
   "source": []
  },
  {
   "cell_type": "code",
   "execution_count": null,
   "metadata": {},
   "outputs": [],
   "source": []
  }
 ],
 "metadata": {
  "kernelspec": {
   "display_name": "Python 2",
   "language": "python",
   "name": "python2"
  },
  "language_info": {
   "codemirror_mode": {
    "name": "ipython",
    "version": 2
   },
   "file_extension": ".py",
   "mimetype": "text/x-python",
   "name": "python",
   "nbconvert_exporter": "python",
   "pygments_lexer": "ipython2",
   "version": "2.7.15"
  }
 },
 "nbformat": 4,
 "nbformat_minor": 2
}
