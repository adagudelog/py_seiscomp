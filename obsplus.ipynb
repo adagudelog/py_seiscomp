{
 "cells": [
  {
   "cell_type": "code",
   "execution_count": 7,
   "metadata": {},
   "outputs": [
    {
     "name": "stdout",
     "output_type": "stream",
     "text": [
      "Event:\t2017-01-31T14:04:52.500000Z |  +6.752,  -73.174 | 1.3 ML | manual\n",
      "\n",
      "\t            resource_id: ResourceIdentifier(id=\"smi:org.gfz-potsdam.de/geofon/SGC2017cdwz\")\n",
      "\t          creation_info: CreationInfo(agency_id='SGC', author='scevent@seismo1.sgc.gov.co', creation_time=UTCDateTime(2017, 11, 22, 22, 43, 33, 890727))\n",
      "\t    preferred_origin_id: ResourceIdentifier(id=\"smi:org.gfz-potsdam.de/geofon/SEISORI#20170131140452@line1\")\n",
      "\t preferred_magnitude_id: ResourceIdentifier(id=\"smi:org.gfz-potsdam.de/geofon/SEISMAG1#20170131140452@line1\")\n",
      "\t                   ---------\n",
      "\t     event_descriptions: 1 Elements\n",
      "\t                  picks: 8 Elements\n",
      "\t                origins: 1 Elements\n",
      "\t             magnitudes: 1 Elements\n"
     ]
    }
   ],
   "source": [
    "from obspy.clients.fdsn import Client\n",
    "from obspy import UTCDateTime\n",
    "\n",
    "server_IP = 'http://10.100.100.232'\n",
    "port_fdsn = \"8091\"\n",
    "    \n",
    "starttime = UTCDateTime(\"2017 01 31 12 26\")    \n",
    "endtime = UTCDateTime(\"2017 01 31 14 38\")\n",
    "\n",
    "client = Client(server_IP+\":\"+port_fdsn)\n",
    "\n",
    "sc_cat = client.get_events(starttime=starttime, endtime=endtime,\n",
    "                           includeallmagnitudes=True, includearrivals=True)\n",
    "\n",
    "print sc_cat[0]"
   ]
  },
  {
   "cell_type": "code",
   "execution_count": 8,
   "metadata": {},
   "outputs": [
    {
     "ename": "ImportError",
     "evalue": "No module named obsplus",
     "output_type": "error",
     "traceback": [
      "\u001b[0;31m---------------------------------------------------------------------------\u001b[0m",
      "\u001b[0;31mImportError\u001b[0m                               Traceback (most recent call last)",
      "\u001b[0;32m<ipython-input-8-b9f7a3f8a9ef>\u001b[0m in \u001b[0;36m<module>\u001b[0;34m()\u001b[0m\n\u001b[0;32m----> 1\u001b[0;31m \u001b[0;32mimport\u001b[0m \u001b[0mobsplus\u001b[0m\u001b[0;34m\u001b[0m\u001b[0m\n\u001b[0m\u001b[1;32m      2\u001b[0m \u001b[0;34m\u001b[0m\u001b[0m\n",
      "\u001b[0;31mImportError\u001b[0m: No module named obsplus"
     ]
    }
   ],
   "source": [
    "import obsplus\n",
    "\n"
   ]
  },
  {
   "cell_type": "code",
   "execution_count": null,
   "metadata": {},
   "outputs": [],
   "source": []
  }
 ],
 "metadata": {
  "kernelspec": {
   "display_name": "Python 2",
   "language": "python",
   "name": "python2"
  },
  "language_info": {
   "codemirror_mode": {
    "name": "ipython",
    "version": 2
   },
   "file_extension": ".py",
   "mimetype": "text/x-python",
   "name": "python",
   "nbconvert_exporter": "python",
   "pygments_lexer": "ipython2",
   "version": "2.7.15"
  }
 },
 "nbformat": 4,
 "nbformat_minor": 2
}
