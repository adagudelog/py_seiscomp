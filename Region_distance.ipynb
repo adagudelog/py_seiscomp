{
 "cells": [
  {
   "cell_type": "code",
   "execution_count": 56,
   "metadata": {},
   "outputs": [
    {
     "name": "stderr",
     "output_type": "stream",
     "text": [
      "/home/daniel/anaconda2/envs/python3/lib/python3.6/site-packages/ipykernel/__main__.py:6: ParserWarning: Falling back to the 'python' engine because the 'c' engine does not support regex separators (separators > 1 char and different from '\\s+' are interpreted as regex); you can avoid this warning by specifying engine='python'.\n"
     ]
    }
   ],
   "source": [
    "import pandas as pd\n",
    "import numpy as np\n",
    "\n",
    "df = pd.read_csv(\"municipios.txt\", sep=r'\\s{2,}', index_col=0,\n",
    "                 names=[\"ID\", \"lat\", \"lon\", \"municipio\", \"departamento\"], \n",
    "                 header=None)\n",
    "\n",
    "df[\"lat\"] = pd.to_numeric(df[\"lat\"])\n",
    "df[\"lon\"] = pd.to_numeric(df[\"lon\"])\n",
    "#df[1118:11225]"
   ]
  },
  {
   "cell_type": "code",
   "execution_count": 67,
   "metadata": {},
   "outputs": [],
   "source": [
    "def euc_dist(x, point):\n",
    "    a_min_b = np.asarray([x[\"lat\"],x[\"lon\"]])-np.asarray(point)\n",
    "    dist = np.sqrt(np.einsum('i,i', a_min_b, a_min_b))\n",
    "    return dist"
   ]
  },
  {
   "cell_type": "code",
   "execution_count": 77,
   "metadata": {},
   "outputs": [
    {
     "data": {
      "text/plain": [
       "'CACHIRA-N.SANTANDER'"
      ]
     },
     "execution_count": 77,
     "metadata": {},
     "output_type": "execute_result"
    }
   ],
   "source": [
    "df[\"distance\"] = df.apply(lambda x: euc_dist(x, [7.70, -72.99]),\n",
    "                          axis=1)\n",
    "df.sort_values(\"distance\", inplace=True, ascending=True)\n",
    "df.municipio.values[0]+\"-\"+df.departamento.values[0]"
   ]
  },
  {
   "cell_type": "code",
   "execution_count": 84,
   "metadata": {},
   "outputs": [],
   "source": [
    "def find_region(point):\n",
    "    names=[\"ID\", \"lat\", \"lon\", \"municipio\",\"departamento\"]\n",
    "    df = pd.read_csv(\"municipios.txt\", sep=r'\\s{2,}', names=names,\n",
    "                     index_col=0, header=None)\n",
    "\n",
    "    df[\"lat\"] = pd.to_numeric(df[\"lat\"])\n",
    "    df[\"lon\"] = pd.to_numeric(df[\"lon\"])\n",
    "\n",
    "    df[\"distance\"] = df.apply(lambda x: euc_dist(x, point), axis=1)\n",
    "    df.sort_values(\"distance\", inplace=True, ascending=True)\n",
    "    return df.municipio.values[0]+\" - \"+df.departamento.values[0]"
   ]
  },
  {
   "cell_type": "code",
   "execution_count": 83,
   "metadata": {},
   "outputs": [
    {
     "name": "stdout",
     "output_type": "stream",
     "text": [
      "CPU times: user 156 ms, sys: 4 ms, total: 160 ms\n",
      "Wall time: 156 ms\n"
     ]
    },
    {
     "name": "stderr",
     "output_type": "stream",
     "text": [
      "/home/daniel/anaconda2/envs/python3/lib/python3.6/site-packages/ipykernel/__main__.py:4: ParserWarning: Falling back to the 'python' engine because the 'c' engine does not support regex separators (separators > 1 char and different from '\\s+' are interpreted as regex); you can avoid this warning by specifying engine='python'.\n"
     ]
    },
    {
     "data": {
      "text/plain": [
       "'CACHIRA-N.SANTANDER'"
      ]
     },
     "execution_count": 83,
     "metadata": {},
     "output_type": "execute_result"
    }
   ],
   "source": [
    "%time find_region([7.67,-73.05])"
   ]
  },
  {
   "cell_type": "code",
   "execution_count": null,
   "metadata": {},
   "outputs": [],
   "source": []
  }
 ],
 "metadata": {
  "kernelspec": {
   "display_name": "Python [conda env:python3]",
   "language": "python",
   "name": "conda-env-python3-py"
  },
  "language_info": {
   "codemirror_mode": {
    "name": "ipython",
    "version": 3
   },
   "file_extension": ".py",
   "mimetype": "text/x-python",
   "name": "python",
   "nbconvert_exporter": "python",
   "pygments_lexer": "ipython3",
   "version": "3.6.6"
  }
 },
 "nbformat": 4,
 "nbformat_minor": 2
}
