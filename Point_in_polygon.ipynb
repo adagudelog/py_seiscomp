{
 "cells": [
  {
   "cell_type": "code",
   "execution_count": 7,
   "metadata": {},
   "outputs": [
    {
     "name": "stdout",
     "output_type": "stream",
     "text": [
      "False\n"
     ]
    }
   ],
   "source": [
    "from shapely.geometry import Point\n",
    "from shapely.geometry.polygon import Polygon\n",
    "from numba import jit, prange\n",
    "import numpy as np\n",
    "\n",
    "point = Point(-73.3930, 5.047)\n",
    "polygon = Polygon([[0, 0], [0, 1], [1, 1], [1, 0]])\n",
    "print(polygon.contains(point))"
   ]
  },
  {
   "cell_type": "code",
   "execution_count": 8,
   "metadata": {},
   "outputs": [
    {
     "name": "stdout",
     "output_type": "stream",
     "text": [
      "CPU times: user 2.7 s, sys: 72 ms, total: 2.77 s\n",
      "Wall time: 2.77 s\n"
     ]
    }
   ],
   "source": [
    "def make_polygons(fep):\n",
    "    # leer los archivos como lista de tuplas\n",
    "    f = open(\"fep/\"+fep, encoding='latin1').readlines()\n",
    "    regions = {}\n",
    "    poly = []\n",
    "\n",
    "    for line in f:\n",
    "        if line[0] != \"L\":\n",
    "            l = line.split()\n",
    "            # agregando puntos del poligono de la region\n",
    "            poly.append([float(l[0]), float(l[1])])\n",
    "        else:\n",
    "            regions[line.strip(\"L\").strip()] = np.asarray(poly)\n",
    "            \n",
    "    return regions\n",
    "\n",
    "# leer los archivos como lista de tuplas\n",
    "%time regions = make_polygons(\"BOYACA.fep\")"
   ]
  },
  {
   "cell_type": "code",
   "execution_count": 9,
   "metadata": {},
   "outputs": [],
   "source": [
    "@jit(nopython=True)\n",
    "def ray_tracing(point,poly):\n",
    "    x,y = point\n",
    "    n = len(poly)\n",
    "    inside = False\n",
    "    p2x = 0.0\n",
    "    p2y = 0.0\n",
    "    xints = 0.0\n",
    "    p1x,p1y = poly[0]\n",
    "    for i in range(n+1):\n",
    "        p2x,p2y = poly[i % n]\n",
    "        if y > min(p1y,p2y):\n",
    "            if y <= max(p1y,p2y):\n",
    "                if x <= max(p1x,p2x):\n",
    "                    if p1y != p2y:\n",
    "                        xints = (y-p1y)*(p2x-p1x)/(p2y-p1y)+p1x\n",
    "                    if p1x == p2x or x <= xints:\n",
    "                        inside = not inside\n",
    "        p1x,p1y = p2x,p2y\n",
    "\n",
    "    return inside"
   ]
  },
  {
   "cell_type": "code",
   "execution_count": 19,
   "metadata": {},
   "outputs": [
    {
     "name": "stdout",
     "output_type": "stream",
     "text": [
      "True\n"
     ]
    }
   ],
   "source": [
    "point2 = (0.5, 0.5)\n",
    "point3 = (-73.18, 6.59)\n",
    "polygon2 = np.array([[0, 0], [0, 1], [1, 1], [1, 0]])\n",
    "print(ray_tracing(point2, polygon2))"
   ]
  },
  {
   "cell_type": "code",
   "execution_count": 15,
   "metadata": {
    "scrolled": true
   },
   "outputs": [
    {
     "name": "stdout",
     "output_type": "stream",
     "text": [
      "CPU times: user 92 ms, sys: 52 ms, total: 144 ms\n",
      "Wall time: 142 ms\n"
     ]
    }
   ],
   "source": [
    "def find_in_fep(point, regions):\n",
    "    for region in regions:\n",
    "        polygon = regions[region]\n",
    "        is_in = ray_tracing(point, polygon)\n",
    "        if is_in:\n",
    "            print(region)\n",
    "            \n",
    "%time find_in_fep(point3, regions)"
   ]
  },
  {
   "cell_type": "code",
   "execution_count": 20,
   "metadata": {
    "scrolled": true
   },
   "outputs": [
    {
     "name": "stdout",
     "output_type": "stream",
     "text": [
      "ConcepciÃ³n - Santander, Colombia\n",
      "El Guacamayo - Santander, Colombia\n",
      "Oiba - Santander, Colombia\n",
      "ContrataciÃ³n - Santander, Colombia\n",
      "Coromoro - Santander, Colombia\n",
      "La Paz - Santander, Colombia\n",
      "CharalÃ¡ - Santander, Colombia\n",
      "Ocamonte - Santander, Colombia\n",
      "Confines - Santander, Colombia\n",
      "Palmas del Socorro - Santander, Colombia\n",
      "Macaravita - Santander, Colombia\n",
      "Capitanejo - Santander, Colombia\n",
      "San Miguel - Santander, Colombia\n",
      "Cabrera - Santander, Colombia\n",
      "Hato - Santander, Colombia\n",
      "Mogotes - Santander, Colombia\n",
      "Zapatoca - Santander, Colombia\n",
      "Albania - Santander, Colombia\n",
      "GÃ¼epsa - Santander, Colombia\n",
      "ChipatÃ¡ - Santander, Colombia\n",
      "San Benito - Santander, Colombia\n",
      "Suaita - Santander, Colombia\n",
      "Aguada - Santander, Colombia\n",
      "Bolivar - Santander, Colombia\n",
      "Guadalupe - Santander, Colombia\n",
      "FloriÃ¡n - Santander, Colombia\n",
      "JesÃºs MarÃ­a - Santander, Colombia\n",
      "Puente Nacional - Santander, Colombia\n",
      "Barbosa - Santander, Colombia\n",
      "La Belleza - Santander, Colombia\n",
      "Piedecuesta - Santander, Colombia\n",
      "San Vicente de ChucurÃ­ - Santander, Colombia\n",
      "Floridablanca - Santander, Colombia\n",
      "Betulia - Santander, Colombia\n",
      "GirÃ³n - Santander, Colombia\n",
      "Barrancabermeja - Santander, Colombia\n",
      "Tona - Santander, Colombia\n",
      "Bucaramanga - Santander, Colombia\n",
      "Charta - Santander, Colombia\n",
      "Villanueva - Santander, Colombia\n",
      "Cimitarra - Santander, Colombia\n",
      "GalÃ¡n - Santander, Colombia\n",
      "Puerto Parra - Santander, Colombia\n",
      "Simacota - Santander, Colombia\n",
      "Vetas - Santander, Colombia\n",
      "California - Santander, Colombia\n",
      "Lebrija - Santander, Colombia\n",
      "Matanza - Santander, Colombia\n",
      "El PlayÃ³n - Santander, Colombia\n",
      "Sabana de Torres - Santander, Colombia\n",
      "Rionegro - Santander, Colombia\n",
      "Puerto Wilches - Santander, Colombia\n",
      "SuratÃ¡ - Santander, Colombia\n",
      "GuavatÃ¡ - Santander, Colombia\n",
      "CPU times: user 24 s, sys: 548 ms, total: 24.6 s\n",
      "Wall time: 24.6 s\n"
     ]
    }
   ],
   "source": [
    "import os\n",
    "\n",
    "def find_region(point):\n",
    "    feps = [i for i in os.listdir(\"fep\") if os.path.isfile(\n",
    "                                       os.path.join(\"fep\",i))]\n",
    "    for fep in feps:\n",
    "        regions = make_polygons(fep)\n",
    "        find_in_fep(point, regions)\n",
    "\n",
    "%time find_region(point3)"
   ]
  },
  {
   "cell_type": "code",
   "execution_count": null,
   "metadata": {},
   "outputs": [],
   "source": []
  }
 ],
 "metadata": {
  "kernelspec": {
   "display_name": "Python [conda env:python3]",
   "language": "python",
   "name": "conda-env-python3-py"
  },
  "language_info": {
   "codemirror_mode": {
    "name": "ipython",
    "version": 3
   },
   "file_extension": ".py",
   "mimetype": "text/x-python",
   "name": "python",
   "nbconvert_exporter": "python",
   "pygments_lexer": "ipython3",
   "version": "3.6.6"
  }
 },
 "nbformat": 4,
 "nbformat_minor": 2
}
